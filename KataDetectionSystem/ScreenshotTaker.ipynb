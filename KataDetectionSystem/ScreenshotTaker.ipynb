{
 "cells": [
  {
   "cell_type": "code",
   "execution_count": null,
   "id": "90e491b2",
   "metadata": {},
   "outputs": [
    {
     "name": "stdout",
     "output_type": "stream",
     "text": [
      "Screenshot 1 saved: imr/screenshot_1.png\n",
      "Screenshot 2 saved: imr/screenshot_2.png\n",
      "Screenshot 3 saved: imr/screenshot_3.png\n",
      "Screenshot 4 saved: imr/screenshot_4.png\n",
      "Screenshot 5 saved: imr/screenshot_5.png\n",
      "Screenshot 6 saved: imr/screenshot_6.png\n",
      "Screenshot 7 saved: imr/screenshot_7.png\n",
      "Screenshot 8 saved: imr/screenshot_8.png\n",
      "Screenshot 9 saved: imr/screenshot_9.png\n",
      "Screenshot 10 saved: imr/screenshot_10.png\n",
      "Screenshot 11 saved: imr/screenshot_11.png\n",
      "Screenshot 12 saved: imr/screenshot_12.png\n",
      "Screenshot 13 saved: imr/screenshot_13.png\n",
      "Screenshot 14 saved: imr/screenshot_14.png\n",
      "Screenshot 15 saved: imr/screenshot_15.png\n",
      "Screenshot 16 saved: imr/screenshot_16.png\n",
      "Screenshot 17 saved: imr/screenshot_17.png\n",
      "Screenshot 18 saved: imr/screenshot_18.png\n",
      "Screenshot 19 saved: imr/screenshot_19.png\n",
      "Screenshot 20 saved: imr/screenshot_20.png\n",
      "Screenshot 21 saved: imr/screenshot_21.png\n",
      "Screenshot 22 saved: imr/screenshot_22.png\n",
      "Total screenshots taken: 22\n"
     ]
    },
    {
     "ename": "",
     "evalue": "",
     "output_type": "error",
     "traceback": [
      "\u001b[1;31mThe Kernel crashed while executing code in the current cell or a previous cell. \n",
      "\u001b[1;31mPlease review the code in the cell(s) to identify a possible cause of the failure. \n",
      "\u001b[1;31mClick <a href='https://aka.ms/vscodeJupyterKernelCrash'>here</a> for more info. \n",
      "\u001b[1;31mView Jupyter <a href='command:jupyter.viewOutput'>log</a> for further details."
     ]
    }
   ],
   "source": [
    "import os\n",
    "import cv2\n",
    "\n",
    "# Ensure the output directory exists\n",
    "os.makedirs('imr', exist_ok=True)\n",
    "video = \"vid.mp4\"\n",
    "\n",
    "# Open the video file\n",
    "cap = cv2.VideoCapture(video)\n",
    "screenshot_count = 0\n",
    "\n",
    "while cap.isOpened():\n",
    "    ret, frame = cap.read()\n",
    "    if not ret:\n",
    "        break\n",
    "    \n",
    "    cv2.imshow('Video', frame)\n",
    "    key = cv2.waitKey(1) & 0xFF\n",
    "    \n",
    "    # Space bar pressed\n",
    "    if key == 32:\n",
    "        screenshot_count += 1\n",
    "        screenshot_path = os.path.join('imr', f'screenshot_{screenshot_count}.png')\n",
    "        cv2.imwrite(screenshot_path, frame)\n",
    "        print(f\"Screenshot {screenshot_count} saved: {screenshot_path}\")\n",
    "    \n",
    "    # Press 'q' to quit\n",
    "    if key == ord('q'):\n",
    "        break\n",
    "\n",
    "cap.release()\n",
    "cv2.destroyAllWindows()\n",
    "print(f\"Total screenshots taken: {screenshot_count}\")"
   ]
  }
 ],
 "metadata": {
  "kernelspec": {
   "display_name": "Python 3",
   "language": "python",
   "name": "python3"
  },
  "language_info": {
   "codemirror_mode": {
    "name": "ipython",
    "version": 3
   },
   "file_extension": ".py",
   "mimetype": "text/x-python",
   "name": "python",
   "nbconvert_exporter": "python",
   "pygments_lexer": "ipython3",
   "version": "3.10.18"
  }
 },
 "nbformat": 4,
 "nbformat_minor": 5
}
